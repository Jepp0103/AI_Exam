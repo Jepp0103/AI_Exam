{
 "cells": [
  {
   "cell_type": "code",
   "execution_count": 43,
   "id": "aa1b67c0",
   "metadata": {},
   "outputs": [],
   "source": [
    "%matplotlib inline\n",
    " \n",
    "import matplotlib.pyplot as plt\n",
    "import numpy as np\n",
    "import os\n",
    "import pprint\n",
    "import joblib\n",
    "from skimage.io import imread\n",
    "from skimage.transform import resize\n",
    "pp = pprint.PrettyPrinter(indent=4)\n",
    "\n",
    "def resize_all(src, pklname, include, width=150, height=None):\n",
    "    height = height if height is not None else width\n",
    "    \n",
    "    data = dict()\n",
    "    data[\"description\"] = f'Resized {int(width)}x{int(height)} fruit images in RGB'\n",
    "    data[\"label\"] = []\n",
    "    data[\"filename\"] = []\n",
    "    data[\"data\"] = []\n",
    "    \n",
    "    # Pickle for later user\n",
    "    pklname = f'{pklname}_{width}x{height}px.pkl'\n",
    "    \n",
    "    # Resize and read images\n",
    "    for subdir in os.listdir(src):\n",
    "        if subdir in include:\n",
    "            print(subdir)\n",
    "            current_path = os.path.join(src, subdir)\n",
    "            \n",
    "            for file in os.listdir(current_path):\n",
    "                if file[-3:] in {\"jpg\", \"png\"}:\n",
    "                    im = imread(os.path.join(current_path, file))\n",
    "                    im = resize(im, (width, height)) #[:,:,::-1]\n",
    "                    data[\"label\"].append(subdir)\n",
    "                    data[\"filename\"].append(file)\n",
    "                    data[\"data\"].append(im)\n",
    "                    \n",
    "        joblib.dump(data, pklname)\n",
    "        \n",
    "\n",
    "\n",
    "\n",
    "\n"
   ]
  },
  {
   "cell_type": "code",
   "execution_count": 44,
   "id": "cb83f2cc",
   "metadata": {},
   "outputs": [
    {
     "data": {
      "text/plain": [
       "['Tomato 3',\n",
       " 'Tomato 4',\n",
       " 'Tomato Cherry Red',\n",
       " 'Tomato Maroon',\n",
       " 'Tomato Yellow',\n",
       " 'Walnut']"
      ]
     },
     "execution_count": 44,
     "metadata": {},
     "output_type": "execute_result"
    }
   ],
   "source": [
    "# Path to image folders, see that it find them\n",
    "data_path = fr'../Datasets/train'\n",
    "os.listdir(data_path)"
   ]
  },
  {
   "cell_type": "code",
   "execution_count": 45,
   "id": "eab2977e",
   "metadata": {},
   "outputs": [
    {
     "name": "stdout",
     "output_type": "stream",
     "text": [
      "Walnut\n",
      "number of samples:  735\n",
      "keys:  ['description', 'label', 'filename', 'data']\n",
      "description:  Resized 80x80 fruit images in RGB\n",
      "image shape:  (80, 80, 3)\n",
      "labels: ['Walnut']\n"
     ]
    },
    {
     "data": {
      "text/plain": [
       "Counter({'Walnut': 735})"
      ]
     },
     "execution_count": 45,
     "metadata": {},
     "output_type": "execute_result"
    }
   ],
   "source": [
    "base_name = 'fruits'\n",
    "width = 80\n",
    "include = {'Walnut'}\n",
    "resize_all(src=data_path, pklname=\"fruits\", width=width, include=include)\n",
    "\n",
    "from collections import Counter\n",
    " \n",
    "\n",
    "data = joblib.load(f'{base_name}_{width}x{width}px.pkl')\n",
    " \n",
    "print('number of samples: ', len(data['data']))\n",
    "print('keys: ', list(data.keys()))\n",
    "print('description: ', data[\"description\"])\n",
    "print('image shape: ', data[\"data\"][0].shape)\n",
    "print('labels:', np.unique(data['label']))\n",
    " \n",
    "Counter(data['label'])"
   ]
  },
  {
   "cell_type": "code",
   "execution_count": null,
   "id": "cf651da4",
   "metadata": {},
   "outputs": [],
   "source": []
  }
 ],
 "metadata": {
  "kernelspec": {
   "display_name": "Python 3 (ipykernel)",
   "language": "python",
   "name": "python3"
  },
  "language_info": {
   "codemirror_mode": {
    "name": "ipython",
    "version": 3
   },
   "file_extension": ".py",
   "mimetype": "text/x-python",
   "name": "python",
   "nbconvert_exporter": "python",
   "pygments_lexer": "ipython3",
   "version": "3.9.0"
  }
 },
 "nbformat": 4,
 "nbformat_minor": 5
}
