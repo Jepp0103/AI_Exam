{
 "cells": [
  {
   "cell_type": "code",
   "execution_count": 1,
   "id": "955a18e4",
   "metadata": {
    "scrolled": false
   },
   "outputs": [],
   "source": [
    "from os import walk\n",
    "from PIL import Image\n",
    "import numpy as np\n",
    "from numpy import asarray\n",
    "import matplotlib\n",
    "import matplotlib.pyplot as plt\n",
    "\n",
    "def process_files(filepath):\n",
    "    filenames = next(walk(filepath), (None, None, []))[2]  # [] if no file\n",
    "    red_images = []\n",
    "    green_images = []\n",
    "    blue_images = []\n",
    "    overall_label = filepath.split('/')[-2]\n",
    "    print(\"Starting... \")\n",
    "    for file in filenames:\n",
    "        img = Image.open(filepath + file).resize((96,96))\n",
    "        default_img = asarray(img)\n",
    "\n",
    "        for pixels in default_img: \n",
    "            for pixel in pixels:\n",
    "                if(\n",
    "                    (pixel[0] < 256 and pixel[0] > 200) and\n",
    "                    (pixel[1] < 256 and pixel[1] > 200) and\n",
    "                    (pixel[2] < 256 and pixel[2] > 200)):\n",
    "                        pixel[0] = 0\n",
    "                        pixel[1] = 0\n",
    "                        pixel[2] = 0    \n",
    "        \n",
    "        red_channel_loop = default_img.copy()            \n",
    "        blue_channel_loop = default_img.copy()\n",
    "        green_channel_loop = default_img.copy()\n",
    "\n",
    "        for pixels in red_channel_loop:\n",
    "            for pixel in pixels:\n",
    "                pixel[1] = 0\n",
    "                pixel[2] = 0\n",
    "\n",
    "        red_images.append(red_channel_loop)\n",
    "\n",
    "        for pixels in green_channel_loop:\n",
    "            for pixel in pixels:\n",
    "                pixel[0] = 0\n",
    "                pixel[2] = 0 \n",
    "\n",
    "        green_images.append(green_channel_loop)\n",
    "\n",
    "        for pixels in blue_channel_loop:\n",
    "            for pixel in pixels:\n",
    "                pixel[0] = 0\n",
    "                pixel[1] = 0\n",
    "\n",
    "        blue_images.append(blue_channel_loop)\n",
    "        \n",
    "    print(\"Succes!\")\n",
    "    all_images = dict()\n",
    "    all_images[\"Red \" + overall_label] = red_images\n",
    "    all_images[\"Green \" + overall_label] = green_images\n",
    "    all_images[\"Blue \" + overall_label] = blue_images\n",
    "    return all_images"
   ]
  },
  {
   "cell_type": "code",
   "execution_count": 2,
   "id": "f83b14db",
   "metadata": {},
   "outputs": [
    {
     "name": "stdout",
     "output_type": "stream",
     "text": [
      "Starting... \n",
      "Succes!\n"
     ]
    },
    {
     "data": {
      "text/plain": [
       "<matplotlib.image.AxesImage at 0x2711dd167c0>"
      ]
     },
     "execution_count": 2,
     "metadata": {},
     "output_type": "execute_result"
    },
    {
     "data": {
      "image/png": "[encoded data removed]",
      "text/plain": [
       "<Figure size 432x288 with 1 Axes>"
      ]
     },
     "metadata": {
      "needs_background": "light"
     },
     "output_type": "display_data"
    }
   ],
   "source": [
    "tomato3_path = '../Datasets/train/Tomato 3/'\n",
    "\n",
    "images = process_files(tomato3_path)\n",
    "\n",
    "images[\"Red Tomato 3\"][0]\n",
    "\n",
    "\n",
    "# Plot the image\n",
    "plt.imshow(images[\"Red Tomato 3\"][0], interpolation='nearest')"
   ]
  }
 ],
 "metadata": {
  "kernelspec": {
   "display_name": "Python 3 (ipykernel)",
   "language": "python",
   "name": "python3"
  },
  "language_info": {
   "codemirror_mode": {
    "name": "ipython",
    "version": 3
   },
   "file_extension": ".py",
   "mimetype": "text/x-python",
   "name": "python",
   "nbconvert_exporter": "python",
   "pygments_lexer": "ipython3",
   "version": "3.9.7"
  }
 },
 "nbformat": 4,
 "nbformat_minor": 5
}
