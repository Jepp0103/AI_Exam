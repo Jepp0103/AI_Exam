{
 "cells": [
  {
   "cell_type": "code",
   "execution_count": 1,
   "id": "a39bdcf7",
   "metadata": {
    "scrolled": false
   },
   "outputs": [
    {
     "name": "stdout",
     "output_type": "stream",
     "text": [
      "Starting...\n",
      "Finished\n",
      "[[255 255 255 ... 255 255 255]\n",
      " [255 255 255 ... 255 255 255]\n",
      " [255 255 255 ... 255 255 255]]\n",
      "[[255 255 255 ... 255 255 255]\n",
      " [255 255 255 ... 255 255 255]\n",
      " [255 255 255 ... 255 255 255]]\n",
      "[[255 255 255 ... 254 255 255]\n",
      " [255 255 255 ... 255 255 255]\n",
      " [255 255 255 ... 255 255 255]]\n",
      "['Tomato 3' 'Tomato 3' 'Tomato 3']\n"
     ]
    }
   ],
   "source": [
    "import os\n",
    "from PIL import Image\n",
    "import numpy as np\n",
    "import matplotlib\n",
    "import matplotlib.pyplot as plt\n",
    "\n",
    "# Path to image folders, \n",
    "data_path = fr'../Datasets/Test Set'\n",
    "# os.listdir(data_path)\n",
    "\n",
    "def remove_white_background(pixels):\n",
    "    for pixel in pixels:\n",
    "        pixel = list(pixel)\n",
    "        if ((256 > pixel[0] > 200) and (256 > pixel[1] > 200) and (256 > pixel[2] > 200)):\n",
    "            pixel[0] = 0\n",
    "            pixel[1] = 0\n",
    "            pixel[2] = 0\n",
    "\n",
    "    return pixels\n",
    "\n",
    "\n",
    "def redify(pixels):\n",
    "    return [r for r, g, b in pixels]\n",
    "\n",
    "                \n",
    "def greenify(pixels):\n",
    "    return [g for r, g, b in pixels]\n",
    "\n",
    "\n",
    "\n",
    "def blueify(pixels):\n",
    "    return [b for r, g, b in pixels]\n",
    "\n",
    "\n",
    "def process_files(src):\n",
    "    data = dict()\n",
    "    X_red = []\n",
    "    X_green = []\n",
    "    X_blue = []\n",
    "    y = np.empty(shape=[0, 1])\n",
    "    print(\"Starting...\")\n",
    "    for subdir in os.listdir(src):\n",
    "        current_path = os.path.join(src, subdir)\n",
    "        for file in os.listdir(current_path):\n",
    "            img = Image.open(os.path.join(current_path, file))\n",
    "            imgResize = img.resize((24,24), Image.ANTIALIAS)\n",
    "            pixels = list(imgResize.getdata())\n",
    "            pixels = remove_white_background(pixels)\n",
    "            X_red.append(redify(pixels.copy()))\n",
    "            X_green.append(greenify(pixels.copy()))\n",
    "            X_blue.append(blueify(pixels.copy()))\n",
    "            y = np.append(y, subdir)\n",
    "    print(\"Finished\")\n",
    "    return np.asarray(X_red), np.asarray(X_green), np.asarray(X_blue), y\n",
    "\n",
    "X_red, X_green, X_blue, y = process_files(data_path)\n",
    "print(X_red)\n",
    "print(X_green)\n",
    "print(X_blue)\n",
    "print(y)\n"
   ]
  },
  {
   "cell_type": "code",
   "execution_count": 2,
   "id": "61a32382",
   "metadata": {},
   "outputs": [
    {
     "data": {
      "text/plain": [
       "array(['Tomato 3', 'Tomato 3', 'Tomato 3'], dtype='<U8')"
      ]
     },
     "execution_count": 2,
     "metadata": {},
     "output_type": "execute_result"
    }
   ],
   "source": [
    "from sklearn import svm\n",
    "from sklearn.neural_network import MLPClassifier\n",
    "\n",
    "mlpc = MLPClassifier(max_iter=100)\n",
    "mlpc.fit(X_red, y)\n",
    "\n",
    "mlpc.predict(X_green)\n",
    "\n",
    "# mnist_clf = svm.SVC()\n",
    "# mnist_clf.fit(x_train, y_train_digit)"
   ]
  },
  {
   "cell_type": "code",
   "execution_count": 3,
   "id": "b9d75f96",
   "metadata": {},
   "outputs": [],
   "source": [
    "# plt.imshow(processed[\"Walnut\"][\"blue\"][3])"
   ]
  },
  {
   "cell_type": "code",
   "execution_count": 4,
   "id": "05a5bdcb",
   "metadata": {},
   "outputs": [
    {
     "name": "stdout",
     "output_type": "stream",
     "text": [
      "Starting...\n",
      "Finished\n"
     ]
    }
   ],
   "source": [
    "big_data_path = fr'../Datasets/train'\n",
    "X_red_big, X_green_big, X_blue_big, y_big = process_files(big_data_path)\n",
    "\n",
    "X_train = X_red_big[0:2000]\n",
    "Y_train = y_big[0:2000]\n",
    "\n",
    "# validation set\n",
    "X_val = X_red_big[2000:2500]\n",
    "Y_val = y_big[2000:2500]\n",
    "\n",
    "# test set\n",
    "X_test = X_red_big[2500:3000]\n",
    "Y_test = y_big[2500:3000]"
   ]
  },
  {
   "cell_type": "code",
   "execution_count": 5,
   "id": "4ca94456",
   "metadata": {},
   "outputs": [
    {
     "data": {
      "text/plain": [
       "array([[255, 255, 255, ..., 254, 255, 255],\n",
       "       [255, 255, 255, ..., 255, 255, 255],\n",
       "       [255, 255, 255, ..., 255, 255, 255],\n",
       "       ...,\n",
       "       [255, 255, 255, ..., 255, 255, 255],\n",
       "       [255, 255, 255, ..., 255, 255, 255],\n",
       "       [255, 254, 255, ..., 255, 255, 255]])"
      ]
     },
     "execution_count": 5,
     "metadata": {},
     "output_type": "execute_result"
    }
   ],
   "source": [
    "X_val"
   ]
  }
 ],
 "metadata": {
  "kernelspec": {
   "display_name": "Python 3 (ipykernel)",
   "language": "python",
   "name": "python3"
  },
  "language_info": {
   "codemirror_mode": {
    "name": "ipython",
    "version": 3
   },
   "file_extension": ".py",
   "mimetype": "text/x-python",
   "name": "python",
   "nbconvert_exporter": "python",
   "pygments_lexer": "ipython3",
   "version": "3.9.7"
  }
 },
 "nbformat": 4,
 "nbformat_minor": 5
}
