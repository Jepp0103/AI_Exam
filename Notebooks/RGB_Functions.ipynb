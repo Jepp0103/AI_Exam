{
 "cells": [
  {
   "cell_type": "code",
   "execution_count": 1,
   "id": "a39bdcf7",
   "metadata": {
    "scrolled": false
   },
   "outputs": [
    {
     "name": "stdout",
     "output_type": "stream",
     "text": [
      "Starting...\n",
      "Finished\n",
      "[[255 255 255 ... 255 255 255]\n",
      " [255 255 255 ... 255 255 255]\n",
      " [255 255 255 ... 255 255 255]]\n",
      "[[255 255 255 ... 255 255 255]\n",
      " [255 255 255 ... 255 255 255]\n",
      " [255 255 255 ... 255 255 255]]\n",
      "[[255 255 255 ... 254 255 255]\n",
      " [255 255 255 ... 255 255 255]\n",
      " [255 255 255 ... 255 255 255]]\n",
      "['Tomato 3' 'Tomato 3' 'Tomato 3']\n"
     ]
    }
   ],
   "source": [
    "import os\n",
    "from PIL import Image\n",
    "import numpy as np\n",
    "import matplotlib\n",
    "import matplotlib.pyplot as plt\n",
    "\n",
    "# Path to image folders, \n",
    "data_path = fr'../Datasets/Test Set'\n",
    "# os.listdir(data_path)\n",
    "\n",
    "def remove_white_background(pixels):\n",
    "    for pixel in pixels:\n",
    "        pixel = list(pixel)\n",
    "        if ((256 > pixel[0] > 200) and (256 > pixel[1] > 200) and (256 > pixel[2] > 200)):\n",
    "            pixel[0] = 0\n",
    "            pixel[1] = 0\n",
    "            pixel[2] = 0\n",
    "\n",
    "    return pixels\n",
    "\n",
    "\n",
    "def redify(pixels):\n",
    "    return [r for r, g, b in pixels]\n",
    "\n",
    "                \n",
    "def greenify(pixels):\n",
    "    return [g for r, g, b in pixels]\n",
    "\n",
    "\n",
    "\n",
    "def blueify(pixels):\n",
    "    return [b for r, g, b in pixels]\n",
    "\n",
    "\n",
    "def process_files(src):\n",
    "    data = dict()\n",
    "    X_red = []\n",
    "    X_green = []\n",
    "    X_blue = []\n",
    "    y = np.empty(shape=[0, 1])\n",
    "    print(\"Starting...\")\n",
    "    for subdir in os.listdir(src):\n",
    "        current_path = os.path.join(src, subdir)\n",
    "        for file in os.listdir(current_path):\n",
    "            print(\"Converting image..\")\n",
    "            img = Image.open(os.path.join(current_path, file))\n",
    "            imgResize = img.resize((24,24))\n",
    "            pixels = list(imgResize.getdata())\n",
    "            pixels = remove_white_background(pixels)\n",
    "            X_red.append(redify(pixels.copy()))\n",
    "            X_green.append(greenify(pixels.copy()))\n",
    "            X_blue.append(blueify(pixels.copy()))\n",
    "            y = np.append(y, subdir)\n",
    "    print(\"Finished\")\n",
    "    return np.asarray(X_red), np.asarray(X_green), np.asarray(X_blue), y\n",
    "\n",
    "X_red, X_green, X_blue, y = process_files(data_path)\n",
    "print(X_red)\n",
    "print(X_green)\n",
    "print(X_blue)\n",
    "print(y)\n"
   ]
  },
  {
   "cell_type": "code",
   "execution_count": 10,
   "id": "61a32382",
   "metadata": {
    "scrolled": true
   },
   "outputs": [
    {
     "name": "stdout",
     "output_type": "stream",
     "text": [
      "Starting...\n",
      "Finished\n",
      "Training set shape: (2308, 576)\n",
      "Test set shape: (577, 576)\n"
     ]
    }
   ],
   "source": [
    "# Path to \"train\" folder, which has all our images\n",
    "all_data_path = fr'../Datasets/train'\n",
    "X_red_all, X_green_all, X_blue_all, y_all = process_files(all_data_path)\n",
    "\n",
    "# Split set\n",
    "from sklearn.model_selection import train_test_split\n",
    "\n",
    "X_train, X_test, y_train, y_test = train_test_split(X_red_all, y_all, test_size=0.20, random_state=40)\n",
    "\n",
    "print(f'Training set shape: {X_train.shape}'); print(f'Test set shape: {X_test.shape}')\n",
    "\n",
    "# Fit test dataset and run predictions\n",
    "from sklearn import svm\n",
    "from sklearn.neural_network import MLPClassifier\n",
    "\n",
    "mlpc_red =  MLPClassifier(hidden_layer_sizes=(576), activation='relu', solver='adam')\n",
    "mlpc_red.fit(X_train, y_train)\n",
    "\n",
    "predict_train = mlpc_red.predict(X_train)\n",
    "predict_test = mlpc_red.predict(X_test)\n"
   ]
  },
  {
   "cell_type": "code",
   "execution_count": 11,
   "id": "b9d75f96",
   "metadata": {},
   "outputs": [
    {
     "name": "stdout",
     "output_type": "stream",
     "text": [
      "[[298   0   0   0   0   0]\n",
      " [  0 387   0   0   0   0]\n",
      " [  0   0 369   0   0   0]\n",
      " [  0   0   0 302   0   0]\n",
      " [  0   0   0   0 362   0]\n",
      " [  0   0   0   0   0 590]]\n",
      "                   precision    recall  f1-score   support\n",
      "\n",
      "         Tomato 3       1.00      1.00      1.00       298\n",
      "         Tomato 4       1.00      1.00      1.00       387\n",
      "Tomato Cherry Red       1.00      1.00      1.00       369\n",
      "    Tomato Maroon       1.00      1.00      1.00       302\n",
      "    Tomato Yellow       1.00      1.00      1.00       362\n",
      "           Walnut       1.00      1.00      1.00       590\n",
      "\n",
      "         accuracy                           1.00      2308\n",
      "        macro avg       1.00      1.00      1.00      2308\n",
      "     weighted avg       1.00      1.00      1.00      2308\n",
      "\n"
     ]
    }
   ],
   "source": [
    "# Performance metrics\n",
    "from sklearn.metrics import classification_report,confusion_matrix\n",
    "\n",
    "print(confusion_matrix(y_train,predict_train))\n",
    "print(classification_report(y_train,predict_train))"
   ]
  },
  {
   "cell_type": "code",
   "execution_count": null,
   "id": "f19b79db",
   "metadata": {},
   "outputs": [],
   "source": []
  }
 ],
 "metadata": {
  "kernelspec": {
   "display_name": "Python 3 (ipykernel)",
   "language": "python",
   "name": "python3"
  },
  "language_info": {
   "codemirror_mode": {
    "name": "ipython",
    "version": 3
   },
   "file_extension": ".py",
   "mimetype": "text/x-python",
   "name": "python",
   "nbconvert_exporter": "python",
   "pygments_lexer": "ipython3",
   "version": "3.8.2"
  }
 },
 "nbformat": 4,
 "nbformat_minor": 5
}
