{
 "cells": [
  {
   "cell_type": "code",
   "execution_count": 1,
   "id": "a39bdcf7",
   "metadata": {
    "scrolled": false
   },
   "outputs": [
    {
     "name": "stdout",
     "output_type": "stream",
     "text": [
      "Starting...\n",
      "Finished\n",
      "[[255 255 255 ... 255 255 255]\n",
      " [255 255 255 ... 255 255 255]\n",
      " [255 255 255 ... 255 255 255]]\n",
      "[[255 255 255 ... 255 255 255]\n",
      " [255 255 255 ... 255 255 255]\n",
      " [255 255 255 ... 255 255 255]]\n",
      "[[255 255 255 ... 254 255 255]\n",
      " [255 255 255 ... 255 255 255]\n",
      " [255 255 255 ... 255 255 255]]\n",
      "['Tomato 3' 'Tomato 3' 'Tomato 3']\n"
     ]
    }
   ],
   "source": [
    "import os\n",
    "from PIL import Image\n",
    "import numpy as np\n",
    "import matplotlib\n",
    "import matplotlib.pyplot as plt\n",
    "\n",
    "# Path to image folders, \n",
    "data_path = fr'../Datasets/Test Set'\n",
    "# os.listdir(data_path)\n",
    "\n",
    "def remove_white_background(pixels):\n",
    "    for pixel in pixels:\n",
    "        pixel = list(pixel)\n",
    "        if ((256 > pixel[0] > 200) and (256 > pixel[1] > 200) and (256 > pixel[2] > 200)):\n",
    "            pixel[0] = 0\n",
    "            pixel[1] = 0\n",
    "            pixel[2] = 0\n",
    "\n",
    "    return pixels\n",
    "\n",
    "\n",
    "def redify(pixels):\n",
    "    return [r for r, g, b in pixels]\n",
    "\n",
    "                \n",
    "def greenify(pixels):\n",
    "    return [g for r, g, b in pixels]\n",
    "\n",
    "\n",
    "\n",
    "def blueify(pixels):\n",
    "    return [b for r, g, b in pixels]\n",
    "\n",
    "\n",
    "def process_files(src):\n",
    "    data = dict()\n",
    "    X_red = []\n",
    "    X_green = []\n",
    "    X_blue = []\n",
    "    y = np.empty(shape=[0, 1])\n",
    "    print(\"Starting...\")\n",
    "    for subdir in os.listdir(src):\n",
    "        current_path = os.path.join(src, subdir)\n",
    "        for file in os.listdir(current_path):\n",
    "            img = Image.open(os.path.join(current_path, file))\n",
    "            imgResize = img.resize((24,24), Image.ANTIALIAS)\n",
    "            pixels = list(imgResize.getdata())\n",
    "            pixels = remove_white_background(pixels)\n",
    "            X_red.append(redify(pixels.copy()))\n",
    "            X_green.append(greenify(pixels.copy()))\n",
    "            X_blue.append(blueify(pixels.copy()))\n",
    "            y = np.append(y, subdir)\n",
    "    print(\"Finished\")\n",
    "    return np.asarray(X_red), np.asarray(X_green), np.asarray(X_blue), y\n",
    "\n",
    "X_red, X_green, X_blue, y = process_files(data_path)\n",
    "print(X_red)\n",
    "print(X_green)\n",
    "print(X_blue)\n",
    "print(y)\n"
   ]
  },
  {
   "cell_type": "code",
   "execution_count": 3,
   "id": "61a32382",
   "metadata": {
    "scrolled": true
   },
   "outputs": [
    {
     "name": "stdout",
     "output_type": "stream",
     "text": [
      "Starting...\n",
      "Finished\n",
      "Starting...\n",
      "Finished\n",
      "red result: ['Tomato 3' 'Tomato 3' 'Tomato 3' 'Tomato 3' 'Tomato 4' 'Tomato 4'\n",
      " 'Tomato 4' 'Tomato 4' 'Tomato Cherry Red' 'Tomato Cherry Red'\n",
      " 'Tomato Cherry Red' 'Tomato Cherry Red' 'Tomato Maroon' 'Tomato Maroon'\n",
      " 'Tomato Maroon' 'Tomato Maroon' 'Tomato Yellow' 'Tomato Yellow'\n",
      " 'Tomato Yellow' 'Tomato Yellow' 'Walnut' 'Walnut' 'Walnut' 'Walnut']\n",
      "y_validation: ['Tomato 3' 'Tomato 3' 'Tomato 3' 'Tomato 3' 'Tomato 4' 'Tomato 4'\n",
      " 'Tomato 4' 'Tomato 4' 'Tomato Cherry Red' 'Tomato Cherry Red'\n",
      " 'Tomato Cherry Red' 'Tomato Cherry Red' 'Tomato Maroon' 'Tomato Maroon'\n",
      " 'Tomato Maroon' 'Tomato Maroon' 'Tomato Yellow' 'Tomato Yellow'\n",
      " 'Tomato Yellow' 'Tomato Yellow' 'Walnut' 'Walnut' 'Walnut' 'Walnut']\n"
     ]
    }
   ],
   "source": [
    "big_data_path = fr'../Datasets/train'\n",
    "X_red_big, X_green_big, X_blue_big, y_big = process_files(big_data_path)\n",
    "\n",
    "validation_data_path = fr'../Datasets/Validation'\n",
    "x_red_validation, x_green_validation, x_blue_validation, y_validation = process_files(validation_data_path)\n",
    "\n",
    "from sklearn import svm\n",
    "from sklearn.neural_network import MLPClassifier\n",
    "\n",
    "mlpc_red = MLPClassifier(max_iter=100)\n",
    "mlpc_red.fit(X_red_big, y_big)\n",
    "\n",
    "red_result = mlpc_red.predict(x_red_validation)\n",
    "\n",
    "print(\"red result:\", red_result)\n",
    "print(\"y_validation:\", y_validation)\n",
    "\n",
    "# mnist_clf = svm.SVC()\n",
    "# mnist_clf.fit(x_train, y_train_digit)"
   ]
  },
  {
   "cell_type": "code",
   "execution_count": 5,
   "id": "c5a3e3ca",
   "metadata": {},
   "outputs": [
    {
     "name": "stdout",
     "output_type": "stream",
     "text": [
      "Starting...\n",
      "Finished\n",
      "red_wallnut_result: ['Tomato Yellow']\n"
     ]
    }
   ],
   "source": [
    "x_red_wallnut, x_green_wallnut, x_blue_wallnut, y_wallnut = process_files(fr'../Datasets/test_wallnut')\n",
    "\n",
    "# red_wallnut_result = mlpc_red.predict(x_red_wallnut)\n",
    "green_wallnut_result = mlpc_red.predict(x_red_wallnut)\n",
    "\n",
    "\n",
    "print(\"red_wallnut_result:\", red_wallnut_result)"
   ]
  },
  {
   "cell_type": "code",
   "execution_count": null,
   "id": "b9d75f96",
   "metadata": {},
   "outputs": [],
   "source": [
    "# plt.imshow(processed[\"Walnut\"][\"blue\"][3])"
   ]
  },
  {
   "cell_type": "code",
   "execution_count": null,
   "id": "18bae841",
   "metadata": {},
   "outputs": [],
   "source": []
  }
 ],
 "metadata": {
  "kernelspec": {
   "display_name": "Python 3 (ipykernel)",
   "language": "python",
   "name": "python3"
  },
  "language_info": {
   "codemirror_mode": {
    "name": "ipython",
    "version": 3
   },
   "file_extension": ".py",
   "mimetype": "text/x-python",
   "name": "python",
   "nbconvert_exporter": "python",
   "pygments_lexer": "ipython3",
   "version": "3.9.7"
  }
 },
 "nbformat": 4,
 "nbformat_minor": 5
}
