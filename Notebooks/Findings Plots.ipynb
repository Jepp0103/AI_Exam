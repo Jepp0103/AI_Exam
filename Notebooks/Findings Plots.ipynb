{
 "cells": [
  {
   "cell_type": "code",
   "execution_count": null,
   "id": "30e63ed3",
   "metadata": {},
   "outputs": [],
   "source": []
  },
  {
   "cell_type": "code",
   "execution_count": 16,
   "id": "ca73e9a5",
   "metadata": {},
   "outputs": [
    {
     "name": "stdout",
     "output_type": "stream",
     "text": [
      "Decision tree: \n",
      "[('0,57', 1), ('0,63', 1), ('0,68', 2), ('0,69', 1), ('0,70', 1), ('0,74', 1), ('0,75', 1), ('0,76', 1), ('0,77', 2), ('0,78', 1), ('0,79', 4), ('0,80', 2), ('0,81', 2), ('0,82', 5), ('0,83', 2), ('0,84', 4), ('0,85', 11), ('0,86', 3), ('0,87', 5), ('0,88', 8), ('0,89', 9), ('0,90', 6), ('0,91', 8), ('0,92', 10), ('0,93', 6), ('0,94', 5), ('0,95', 9), ('0,96', 6), ('0,97', 5), ('0,98', 5), ('0,99', 2), ('1,00', 1)]\n",
      "\n",
      "MLPC RGB: \n",
      "[('0,87', 2), ('0,90', 1), ('0,91', 2), ('0,92', 5), ('0,93', 2), ('0,94', 7), ('0,95', 10), ('0,96', 3), ('0,97', 12), ('0,98', 40), ('0,99', 22), ('1,00', 24)]\n",
      "\n",
      "Random Forest: \n",
      "[('0,77', 1), ('0,82', 1), ('0,83', 2), ('0,86', 1), ('0,87', 1), ('0,88', 1), ('0,89', 2), ('0,90', 2), ('0,91', 2), ('0,92', 5), ('0,94', 6), ('0,95', 7), ('0,96', 10), ('0,97', 12), ('0,98', 16), ('0,99', 18), ('1,00', 43)]\n",
      "\n",
      "MLPC Grey: \n",
      "[('0,49', 1), ('0,66', 1), ('0,74', 1), ('0,77', 1), ('0,83', 1), ('0,84', 1), ('0,86', 2), ('0,88', 4), ('0,89', 4), ('0,90', 4), ('0,91', 5), ('0,92', 3), ('0,93', 2), ('0,94', 9), ('0,95', 13), ('0,96', 9), ('0,97', 5), ('0,98', 17), ('0,99', 22), ('1,00', 25)]\n"
     ]
    },
    {
     "data": {
      "text/plain": [
       "<Figure size 720x360 with 0 Axes>"
      ]
     },
     "metadata": {},
     "output_type": "display_data"
    }
   ],
   "source": [
    "import matplotlib.pyplot as plt\n",
    "import numpy as np\n",
    "import pandas as pd\n",
    "from collections import Counter\n",
    "from matplotlib.pyplot import figure\n",
    "\n",
    "csvDt = pd.read_csv('./Findings_tsv/Decision_Tree_RGB_-_Ark1.tsv', sep='\\t',  header=None).to_numpy().flatten()\n",
    "csvMLPC = pd.read_csv('./Findings_tsv/MLPC_RGB_-_Ark1.tsv', sep='\\t',  header=None).to_numpy().flatten()\n",
    "csvMLPCG = pd.read_csv('./Findings_tsv/MLPC_Grey_-_Ark1.tsv', sep='\\t',  header=None).to_numpy().flatten()\n",
    "csvRF = pd.read_csv('./Findings_tsv/Random_Forest_RGB_-_Ark1.tsv', sep='\\t',  header=None).to_numpy().flatten()\n",
    "\n",
    "labels = range(0, 100)\n",
    "\n",
    "countDt = Counter(csvDt)\n",
    "countMLPC = Counter(csvMLPC)\n",
    "countMLPCG = Counter(csvMLPCG)\n",
    "countRF= Counter(csvRF)\n",
    "\n",
    "countDt = sorted(countDt.most_common())\n",
    "countMLPC = sorted(countMLPC.most_common())\n",
    "countMLPCG = sorted(countMLPCG.most_common())\n",
    "countRF = sorted(countRF.most_common())\n",
    "\n",
    "keysDt = []\n",
    "valuesDt = []\n",
    "\n",
    "keysMLPC = []\n",
    "valuesMLPC = []\n",
    "\n",
    "keysMLPCG = []\n",
    "valuesMLPCG = []\n",
    "\n",
    "keysRF = []\n",
    "valuesRF = []\n",
    "\n",
    "for item in countDt:\n",
    "    if(item[0] != \"1,00\"):\n",
    "        keysDt.append(int(item[0][2:]))\n",
    "    else:\n",
    "        keysDt.append(100)\n",
    "    valuesDt.append(item[1])\n",
    "    \n",
    "for item in countMLPC:\n",
    "    if(item[0] != \"1,00\"):\n",
    "        keysMLPC.append(int(item[0][2:]))\n",
    "    else:\n",
    "        keysMLPC.append(100)\n",
    "    valuesMLPC.append(item[1])\n",
    "    \n",
    "for item in countMLPCG:\n",
    "    if(item[0] != \"1,00\"):\n",
    "        keysMLPCG.append(int(item[0][2:]))\n",
    "    else:\n",
    "        keysMLPCG.append(100)\n",
    "    valuesMLPCG.append(item[1])\n",
    "\n",
    "for item in countRF:\n",
    "    if(item[0] != \"1,00\"):\n",
    "        keysRF.append(int(item[0][2:]))\n",
    "    else:\n",
    "        keysRF.append(100)\n",
    "    valuesRF.append(item[1])\n",
    "    \n",
    "fig = plt.figure(figsize = (10, 5))\n",
    "\n",
    "print(\"Decision tree: \")\n",
    "print(sorted(Counter(csvDt).most_common()))\n",
    "print()\n",
    "print(\"MLPC RGB: \")\n",
    "print(sorted(Counter(csvMLPC).most_common()))\n",
    "print()\n",
    "print(\"Random Forest: \")\n",
    "print(sorted(Counter(csvRF).most_common()))\n",
    "print()\n",
    "print(\"MLPC Grey: \")\n",
    "print(sorted(Counter(csvMLPCG).most_common()))\n"
   ]
  },
  {
   "cell_type": "code",
   "execution_count": 18,
   "id": "794170d0",
   "metadata": {},
   "outputs": [
    {
     "data": {
      "image/png": "[encoded data removed]",
      "text/plain": [
       "<Figure size 432x288 with 1 Axes>"
      ]
     },
     "metadata": {
      "needs_background": "light"
     },
     "output_type": "display_data"
    }
   ],
   "source": [
    " \n",
    "# creating the bar plot\n",
    "plt.bar(keysDt, valuesDt, color=\"y\",\n",
    "        width = 0.4)\n",
    " \n",
    "plt.xlabel(\"Youdens in Percentage\")\n",
    "plt.ylabel(\"Amount of images\")\n",
    "plt.title(\"Youdens Index performance on RGB Decision Tree\")\n",
    "plt.show()"
   ]
  },
  {
   "cell_type": "code",
   "execution_count": 19,
   "id": "c26ab2b0",
   "metadata": {},
   "outputs": [
    {
     "data": {
      "image/png": "[encoded data removed]",
      "text/plain": [
       "<Figure size 432x288 with 1 Axes>"
      ]
     },
     "metadata": {
      "needs_background": "light"
     },
     "output_type": "display_data"
    }
   ],
   "source": [
    "# creating the bar plot\n",
    "plt.bar(keysMLPC, valuesMLPC, color=\"r\",\n",
    "        width = 0.4)\n",
    "\n",
    "plt.xlabel(\"Youdens in Percentage\")\n",
    "plt.ylabel(\"Amount of images\")\n",
    "plt.title(\"Youdens Index performance on RGB MLPC\")\n",
    "plt.show()"
   ]
  },
  {
   "cell_type": "code",
   "execution_count": 20,
   "id": "63817b2f",
   "metadata": {},
   "outputs": [
    {
     "data": {
      "image/png": "[encoded data removed]",
      "text/plain": [
       "<Figure size 432x288 with 1 Axes>"
      ]
     },
     "metadata": {
      "needs_background": "light"
     },
     "output_type": "display_data"
    }
   ],
   "source": [
    "# creating the bar plot\n",
    "plt.bar(keysMLPCG, valuesMLPCG, color=\"g\",\n",
    "        width = 0.4)\n",
    "\n",
    "plt.xlabel(\"Youdens in Percentage\")\n",
    "plt.ylabel(\"Amount of images\")\n",
    "plt.title(\"Youdens Index performance on Grey MLPC\")\n",
    "plt.show()"
   ]
  },
  {
   "cell_type": "code",
   "execution_count": 21,
   "id": "dbd5691c",
   "metadata": {
    "scrolled": true
   },
   "outputs": [
    {
     "data": {
      "image/png": "[encoded data removed]",
      "text/plain": [
       "<Figure size 432x288 with 1 Axes>"
      ]
     },
     "metadata": {
      "needs_background": "light"
     },
     "output_type": "display_data"
    }
   ],
   "source": [
    "# creating the bar plot\n",
    "plt.bar(keysRF, valuesRF, color=\"b\",\n",
    "        width = 0.4)\n",
    "\n",
    "plt.xlabel(\"Youdens in Percentage\")\n",
    "plt.ylabel(\"Amount of images\")\n",
    "plt.title(\"Youdens Index performance on Random Forest Tree\")\n",
    "plt.show()"
   ]
  },
  {
   "cell_type": "code",
   "execution_count": null,
   "id": "be4eb705",
   "metadata": {},
   "outputs": [],
   "source": []
  }
 ],
 "metadata": {
  "kernelspec": {
   "display_name": "Python 3 (ipykernel)",
   "language": "python",
   "name": "python3"
  },
  "language_info": {
   "codemirror_mode": {
    "name": "ipython",
    "version": 3
   },
   "file_extension": ".py",
   "mimetype": "text/x-python",
   "name": "python",
   "nbconvert_exporter": "python",
   "pygments_lexer": "ipython3",
   "version": "3.8.2"
  }
 },
 "nbformat": 4,
 "nbformat_minor": 5
}
