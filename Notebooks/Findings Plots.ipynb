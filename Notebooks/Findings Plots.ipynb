{
 "cells": [
  {
   "cell_type": "code",
   "execution_count": null,
   "id": "30e63ed3",
   "metadata": {},
   "outputs": [],
   "source": []
  },
  {
   "cell_type": "code",
   "execution_count": 25,
   "id": "ca73e9a5",
   "metadata": {},
   "outputs": [
    {
     "name": "stdout",
     "output_type": "stream",
     "text": [
      "Decision tree: \n",
      "[('0,57', 1), ('0,63', 1), ('0,68', 2), ('0,69', 1), ('0,70', 1), ('0,74', 1), ('0,75', 1), ('0,76', 1), ('0,77', 2), ('0,78', 1), ('0,79', 4), ('0,80', 2), ('0,81', 2), ('0,82', 5), ('0,83', 2), ('0,84', 4), ('0,85', 11), ('0,86', 3), ('0,87', 5), ('0,88', 8), ('0,89', 9), ('0,90', 6), ('0,91', 8), ('0,92', 10), ('0,93', 6), ('0,94', 5), ('0,95', 9), ('0,96', 6), ('0,97', 5), ('0,98', 5), ('0,99', 2), ('1,00', 1)]\n",
      "\n",
      "MLPC RGB: \n",
      "[('0,87', 2), ('0,90', 1), ('0,91', 2), ('0,92', 5), ('0,93', 2), ('0,94', 7), ('0,95', 10), ('0,96', 3), ('0,97', 12), ('0,98', 40), ('0,99', 22), ('1,00', 24)]\n",
      "\n",
      "Random Forest: \n",
      "[('0,77', 1), ('0,82', 1), ('0,83', 2), ('0,86', 1), ('0,87', 1), ('0,88', 1), ('0,89', 2), ('0,90', 2), ('0,91', 2), ('0,92', 5), ('0,94', 6), ('0,95', 7), ('0,96', 10), ('0,97', 12), ('0,98', 16), ('0,99', 18), ('1,00', 43)]\n",
      "\n",
      "MLPC Grey: \n",
      "[('0,49', 1), ('0,66', 1), ('0,74', 1), ('0,77', 1), ('0,83', 1), ('0,84', 1), ('0,86', 2), ('0,88', 4), ('0,89', 4), ('0,90', 4), ('0,91', 5), ('0,92', 3), ('0,93', 2), ('0,94', 9), ('0,95', 13), ('0,96', 9), ('0,97', 5), ('0,98', 17), ('0,99', 22), ('1,00', 25)]\n"
     ]
    },
    {
     "data": {
      "text/plain": [
       "<Figure size 720x360 with 0 Axes>"
      ]
     },
     "metadata": {},
     "output_type": "display_data"
    }
   ],
   "source": [
    "import matplotlib.pyplot as plt\n",
    "import numpy as np\n",
    "import pandas as pd\n",
    "from collections import Counter\n",
    "from matplotlib.pyplot import figure\n",
    "\n",
    "csvDt = pd.read_csv('./Findings_tsv/Decision_Tree_RGB_-_Ark1.tsv', sep='\\t',  header=None).to_numpy().flatten()\n",
    "csvMLPC = pd.read_csv('./Findings_tsv/MLPC_RGB_-_Ark1.tsv', sep='\\t',  header=None).to_numpy().flatten()\n",
    "csvMLPCG = pd.read_csv('./Findings_tsv/MLPC_Grey_-_Ark1.tsv', sep='\\t',  header=None).to_numpy().flatten()\n",
    "csvRF = pd.read_csv('./Findings_tsv/Random_Forest_RGB_-_Ark1.tsv', sep='\\t',  header=None).to_numpy().flatten()\n",
    "\n",
    "labels = range(0, 100)\n",
    "\n",
    "countDt = Counter(csvDt)\n",
    "countMLPC = Counter(csvMLPC)\n",
    "countMLPCG = Counter(csvMLPCG)\n",
    "countRF= Counter(csvRF)\n",
    "\n",
    "countDt = sorted(countDt.most_common())\n",
    "countMLPC = sorted(countMLPC.most_common())\n",
    "countMLPCG = sorted(countMLPCG.most_common())\n",
    "countRF = sorted(countRF.most_common())\n",
    "\n",
    "keysDt = []\n",
    "valuesDt = []\n",
    "\n",
    "keysMLPC = []\n",
    "valuesMLPC = []\n",
    "\n",
    "keysMLPCG = []\n",
    "valuesMLPCG = []\n",
    "\n",
    "keysRF = []\n",
    "valuesRF = []\n",
    "\n",
    "for item in countDt:\n",
    "    if(item[0] != \"1,00\"):\n",
    "        keysDt.append(int(item[0][2:]))\n",
    "    else:\n",
    "        keysDt.append(100)\n",
    "    valuesDt.append(item[1])\n",
    "    \n",
    "for item in countMLPC:\n",
    "    if(item[0] != \"1,00\"):\n",
    "        keysMLPC.append(int(item[0][2:]))\n",
    "    else:\n",
    "        keysMLPC.append(100)\n",
    "    valuesMLPC.append(item[1])\n",
    "    \n",
    "for item in countMLPCG:\n",
    "    if(item[0] != \"1,00\"):\n",
    "        keysMLPCG.append(int(item[0][2:]))\n",
    "    else:\n",
    "        keysMLPCG.append(100)\n",
    "    valuesMLPCG.append(item[1])\n",
    "\n",
    "for item in countRF:\n",
    "    if(item[0] != \"1,00\"):\n",
    "        keysRF.append(int(item[0][2:]))\n",
    "    else:\n",
    "        keysRF.append(100)\n",
    "    valuesRF.append(item[1])\n",
    "    \n",
    "fig = plt.figure(figsize = (10, 5))\n",
    "\n",
    "print(\"Decision tree: \")\n",
    "print(sorted(Counter(csvDt).most_common()))\n",
    "print()\n",
    "print(\"MLPC RGB: \")\n",
    "print(sorted(Counter(csvMLPC).most_common()))\n",
    "print()\n",
    "print(\"Random Forest: \")\n",
    "print(sorted(Counter(csvRF).most_common()))\n",
    "print()\n",
    "print(\"MLPC Grey: \")\n",
    "print(sorted(Counter(csvMLPCG).most_common()))\n"
   ]
  },
  {
   "cell_type": "code",
   "execution_count": 26,
   "id": "794170d0",
   "metadata": {},
   "outputs": [
    {
     "data": {
      "image/png": "[encoded data removed]",
      "text/plain": [
       "<Figure size 432x288 with 1 Axes>"
      ]
     },
     "metadata": {
      "needs_background": "light"
     },
     "output_type": "display_data"
    }
   ],
   "source": [
    " \n",
    "# creating the bar plot\n",
    "plt.bar(keysDt, valuesDt, color=\"y\",\n",
    "        width = 0.4)\n",
    " \n",
    "plt.xlabel(\"Youdens in Percentage\")\n",
    "plt.ylabel(\"Amount of images\")\n",
    "plt.title(\"Youdens Index performance on RGB Decision Tree\")\n",
    "plt.show()"
   ]
  },
  {
   "cell_type": "code",
   "execution_count": 27,
   "id": "c26ab2b0",
   "metadata": {},
   "outputs": [
    {
     "data": {
      "image/png": "[encoded data removed]",
      "text/plain": [
       "<Figure size 432x288 with 1 Axes>"
      ]
     },
     "metadata": {
      "needs_background": "light"
     },
     "output_type": "display_data"
    }
   ],
   "source": [
    "# creating the bar plot\n",
    "plt.bar(keysMLPC, valuesMLPC, color=\"r\",\n",
    "        width = 0.4)\n",
    "\n",
    "plt.xlabel(\"Youdens in Percentage\")\n",
    "plt.ylabel(\"Amount of images\")\n",
    "plt.title(\"Youdens Index performance on RGB MLPC\")\n",
    "plt.show()"
   ]
  },
  {
   "cell_type": "code",
   "execution_count": 28,
   "id": "63817b2f",
   "metadata": {},
   "outputs": [
    {
     "data": {
      "image/png": "[encoded data removed]",
      "text/plain": [
       "<Figure size 432x288 with 1 Axes>"
      ]
     },
     "metadata": {
      "needs_background": "light"
     },
     "output_type": "display_data"
    }
   ],
   "source": [
    "# creating the bar plot\n",
    "plt.bar(keysMLPCG, valuesMLPCG, color=\"g\",\n",
    "        width = 0.4)\n",
    "\n",
    "plt.xlabel(\"Youdens in Percentage\")\n",
    "plt.ylabel(\"Amount of images\")\n",
    "plt.title(\"Youdens Index performance on Grey MLPC\")\n",
    "plt.show()"
   ]
  },
  {
   "cell_type": "code",
   "execution_count": 29,
   "id": "dbd5691c",
   "metadata": {
    "scrolled": true
   },
   "outputs": [
    {
     "data": {
      "image/png": "[encoded data removed]",
      "text/plain": [
       "<Figure size 432x288 with 1 Axes>"
      ]
     },
     "metadata": {
      "needs_background": "light"
     },
     "output_type": "display_data"
    }
   ],
   "source": [
    "# creating the bar plot\n",
    "plt.bar(keysRF, valuesRF, color=\"b\",\n",
    "        width = 0.4)\n",
    "\n",
    "plt.xlabel(\"Youdens in Percentage\")\n",
    "plt.ylabel(\"Amount of images\")\n",
    "plt.title(\"Youdens Index performance on Random Forest Tree\")\n",
    "plt.show()"
   ]
  },
  {
   "cell_type": "code",
   "execution_count": 30,
   "id": "be4eb705",
   "metadata": {},
   "outputs": [
    {
     "name": "stdout",
     "output_type": "stream",
     "text": [
      "     Youdens_index  Decision_tree_count\n",
      "0             0.00                  0.0\n",
      "1             0.01                  0.0\n",
      "2             0.02                  0.0\n",
      "3             0.03                  0.0\n",
      "4             0.04                  0.0\n",
      "..             ...                  ...\n",
      "96            0.96                  6.0\n",
      "97            0.97                  5.0\n",
      "98            0.98                  5.0\n",
      "99            0.99                  2.0\n",
      "100           1.00                  1.0\n",
      "\n",
      "[101 rows x 2 columns]\n"
     ]
    }
   ],
   "source": [
    "Decision_tree = (np.sort(csvDt))\n",
    "\n",
    "youdens_score = np.arange(start=0.00, stop=1.01, step=0.01)\n",
    "unique, counts = np.unique(Decision_tree, return_counts=True)\n",
    "dab = dict(zip(unique, counts))\n",
    "\n",
    "dec_tree_construct = []\n",
    "for n in youdens_score:\n",
    "    dec_tree_construct.append(0.00)\n",
    "\n",
    "for count, n in enumerate(youdens_score):\n",
    "    for k in dab:\n",
    "        n_round = np.round(n, 2)\n",
    "        k_stripped = float(k.replace(\",\", \".\"))\n",
    "\n",
    "        if k_stripped == n_round:\n",
    "            dec_tree_construct[count]=dab[k]\n",
    "\n",
    "        \n",
    "data = {'Youdens_index': np.arange(start=0.00, stop=1.01, step=0.01).tolist(),\n",
    "       'Decision_tree_count':dec_tree_construct}\n",
    "    \n",
    " \n",
    "# Create DataFrame  \n",
    "df = pd.DataFrame(data)  \n",
    "  \n",
    "# Print the output.  \n",
    "print(df)  "
   ]
  },
  {
   "cell_type": "code",
   "execution_count": 41,
   "id": "15012af2",
   "metadata": {},
   "outputs": [
    {
     "name": "stdout",
     "output_type": "stream",
     "text": [
      "[0.0, 0.0, 0.0, 0.0, 0.0, 0.0, 0.0, 0.0, 0.0, 0.0, 0.0, 0.0, 0.0, 0.0, 0.0, 0.0, 0.0, 0.0, 0.0, 0.0, 0.0, 0.0, 0.0, 0.0, 0.0, 0.0, 0.0, 0.0, 0.0, 0.0, 0.0, 0.0, 0.0, 0.0, 0.0, 0.0, 0.0, 0.0, 0.0, 0.0, 0.0, 0.0, 0.0, 0.0, 0.0, 0.0, 0.0, 0.0, 0.0, 0.0, 0.0, 0.0, 0.0, 0.0, 0.0, 0.0, 0.0, 1, 0.0, 0.0, 0.0, 0.0, 0.0, 1, 0.0, 0.0, 0.0, 0.0, 2, 1, 1, 0.0, 0.0, 0.0, 1, 1, 1, 2, 1, 4, 2, 2, 5, 2, 4, 11, 3, 5, 8, 9, 6, 8, 10, 6, 5, 9, 6, 5, 5, 2, 1]\n"
     ]
    },
    {
     "data": {
      "image/png": "[encoded data removed]",
      "text/plain": [
       "<Figure size 460.8x345.6 with 1 Axes>"
      ]
     },
     "metadata": {
      "needs_background": "light"
     },
     "output_type": "display_data"
    }
   ],
   "source": [
    "labels = []\n",
    "\n",
    "for item in youdens_score:\n",
    "    if(item != 1.00):\n",
    "        labels.append(np.round(item*100, 2))\n",
    "    else:\n",
    "        labels.append(100)\n",
    "\n",
    "print(dec_tree_construct)\n",
    "    \n",
    "X = labels\n",
    "YDT = dec_tree_construct\n",
    "#Zboys = [20,30,25,30]\n",
    "  \n",
    "X_axis = np.arange(len(X))\n",
    "  \n",
    "plt.bar(X_axis - 0.2, YDT, 0.4, label = 'Decision Tree')\n",
    "#plt.bar(X_axis + 0.2, Zboys, 0.4, label = 'Boys')\n",
    "\n",
    "plt.xticks(X_axis, X)\n",
    "plt.xlabel(\"Groups\")\n",
    "plt.ylabel(\"Number of Students\")\n",
    "plt.title(\"Number of Students in each group\")\n",
    "plt.legend()\n",
    "plt.show()"
   ]
  }
 ],
 "metadata": {
  "kernelspec": {
   "display_name": "Python 3 (ipykernel)",
   "language": "python",
   "name": "python3"
  },
  "language_info": {
   "codemirror_mode": {
    "name": "ipython",
    "version": 3
   },
   "file_extension": ".py",
   "mimetype": "text/x-python",
   "name": "python",
   "nbconvert_exporter": "python",
   "pygments_lexer": "ipython3",
   "version": "3.8.2"
  }
 },
 "nbformat": 4,
 "nbformat_minor": 5
}
