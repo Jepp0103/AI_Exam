{
 "cells": [
  {
   "cell_type": "code",
   "execution_count": 8,
   "id": "955a18e4",
   "metadata": {},
   "outputs": [],
   "source": [
    "from os import walk\n",
    "from PIL import Image\n",
    "\n",
    "tomato3_path = '../Datasets/train/Tomato 3/'\n",
    "\n",
    "filenames = next(walk(tomato3_path), (None, None, []))[2]  # [] if no file\n",
    "\n",
    "for filename in filenames:\n",
    "    img = Image.open(tomato3_path + filename)\n",
    "    \n",
    "    imgGray = img.convert('L')\n",
    "    imgGray.save('../Datasets/train/Grey/Tomato 3/' + filename)\n",
    "    \n",
    "    # Split into 3 channels\n",
    "    r, g, b = img.split()\n",
    "\n",
    "    # Decrease green and blue\n",
    "    redG = g.point(lambda i: i * 0.00001)\n",
    "    redBb = b.point(lambda i: i * 0.00001)\n",
    "    \n",
    "    imgRed = Image.merge('RGB', (r, redG, redBb))\n",
    "    imgRed.save('../Datasets/train/Red/Tomato 3/' + filename)\n",
    "    \n",
    "    greenR = r.point(lambda i: i * 0.00001)\n",
    "    greenb = b.point(lambda i: i * 0.00001)\n",
    "    \n",
    "    imgGreen = Image.merge('RGB', (greenR, g, greenb))\n",
    "    imgGreen.save('../Datasets/train/Green/Tomato 3/' + filename)\n",
    "    \n",
    "    blueRed = r.point(lambda i: i * 0.00001)\n",
    "    blueGreen = g.point(lambda i: i * 0.00001)\n",
    "    \n",
    "    imgBlue = Image.merge('RGB', (blueRed, blueGreen, b))\n",
    "    imgBlue.save('../Datasets/train/Blue/Tomato 3/' + filename)\n"
   ]
  },
  {
   "cell_type": "code",
   "execution_count": null,
   "id": "364efa8a",
   "metadata": {},
   "outputs": [],
   "source": []
  }
 ],
 "metadata": {
  "kernelspec": {
   "display_name": "Python 3 (ipykernel)",
   "language": "python",
   "name": "python3"
  },
  "language_info": {
   "codemirror_mode": {
    "name": "ipython",
    "version": 3
   },
   "file_extension": ".py",
   "mimetype": "text/x-python",
   "name": "python",
   "nbconvert_exporter": "python",
   "pygments_lexer": "ipython3",
   "version": "3.8.2"
  }
 },
 "nbformat": 4,
 "nbformat_minor": 5
}
