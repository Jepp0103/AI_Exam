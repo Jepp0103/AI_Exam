{
 "cells": [
  {
   "cell_type": "code",
   "execution_count": 7,
   "id": "329f6c90",
   "metadata": {},
   "outputs": [],
   "source": [
    "import os\n",
    "from PIL import Image\n",
    "import numpy as np\n",
    "import matplotlib\n",
    "import matplotlib.pyplot as plt\n",
    "# Split set\n",
    "from sklearn.model_selection import train_test_split\n",
    "from sklearn.preprocessing import LabelBinarizer\n",
    "\n",
    "# Path to image folders, \n",
    "data_path = fr'../Datasets/train'\n",
    "# os.listdir(data_path)\n",
    "\n",
    "def remove_white_background(pixels):\n",
    "    for pixel in pixels:\n",
    "        if ((256 > pixel > 200)):\n",
    "            pixel = 0\n",
    "\n",
    "    return pixels\n",
    "\n",
    "def get_rgb_pixels_onehut_labels(src):\n",
    "    print(\"Starting...\")\n",
    "    newPixels = []\n",
    "    y = np.empty(shape=[0, 1])\n",
    "\n",
    "    for subdir in os.listdir(src):\n",
    "        current_path = os.path.join(src, subdir)\n",
    "        for file in os.listdir(current_path):\n",
    "            img = Image.open(os.path.join(current_path, file))\n",
    "            grey_img = img.convert('L')\n",
    "            imgResize = grey_img.resize((24,24))\n",
    "            pixels = list(imgResize.getdata())\n",
    "            pixels = remove_white_background(pixels)\n",
    "            newPixels.append(pixels)\n",
    "            y = np.append(y, subdir)\n",
    "    return newPixels, LabelBinarizer().fit_transform(y) # OneHot encode y\n",
    "\n",
    "def process_files(src):\n",
    "    X_grey_train = []\n",
    "    X_grey_validation = []\n",
    "    X_grey_test = []\n",
    "    all_pixels, y = get_rgb_pixels_onehut_labels(src)\n",
    "\n",
    "    X_train, X_validation, y_train, y_validation = train_test_split(all_pixels, y, test_size=0.2, random_state=1)\n",
    "    X_train, X_test, y_train, y_test = train_test_split(X_train, y_train, test_size=0.2, random_state=1)\n",
    "    \n",
    "    for pixels in X_train:       \n",
    "        X_grey_train.append(pixels.copy())\n",
    "        \n",
    "    for pixels in X_validation:       \n",
    "        X_grey_validation.append(pixels.copy())\n",
    "        \n",
    "    for pixels in X_test:       \n",
    "        X_grey_test.append(pixels.copy())\n",
    "    \n",
    "    print(\"Finished\")\n",
    "    return np.asarray(X_grey_train), np.asarray(X_grey_validation), np.asarray(X_grey_test), y_train, y_validation, y_test"
   ]
  },
  {
   "cell_type": "code",
   "execution_count": 8,
   "id": "ae92172c",
   "metadata": {
    "scrolled": true
   },
   "outputs": [
    {
     "name": "stdout",
     "output_type": "stream",
     "text": [
      "Starting...\n",
      "Finished\n"
     ]
    }
   ],
   "source": [
    "# Call process_files and assign variables\n",
    "X_grey_train, X_grey_validation, X_grey_test, y_train, y_validation, y_test = process_files(data_path)"
   ]
  },
  {
   "cell_type": "code",
   "execution_count": 9,
   "id": "9eb8b307",
   "metadata": {},
   "outputs": [
    {
     "name": "stdout",
     "output_type": "stream",
     "text": [
      "[[255 255 255 ... 255 255 255]\n",
      " [255 255 255 ... 255 255 255]\n",
      " [255 255 255 ... 255 255 255]\n",
      " ...\n",
      " [255 255 255 ... 255 255 255]\n",
      " [255 255 255 ... 255 255 255]\n",
      " [254 254 254 ... 255 255 255]]\n"
     ]
    }
   ],
   "source": [
    "print(X_grey_train)"
   ]
  },
  {
   "cell_type": "code",
   "execution_count": 11,
   "id": "637e1b91",
   "metadata": {},
   "outputs": [
    {
     "name": "stdout",
     "output_type": "stream",
     "text": [
      "Starting...\n",
      "Finished\n",
      "Grey model\n",
      "              precision    recall  f1-score   support\n",
      "\n",
      "           0       1.00      0.96      0.98        79\n",
      "           1       1.00      0.99      0.99        91\n",
      "           2       0.80      1.00      0.89       100\n",
      "           3       1.00      0.93      0.96        69\n",
      "           4       1.00      1.00      1.00        93\n",
      "           5       1.00      1.00      1.00       145\n",
      "\n",
      "   micro avg       0.96      0.98      0.97       577\n",
      "   macro avg       0.97      0.98      0.97       577\n",
      "weighted avg       0.97      0.98      0.97       577\n",
      " samples avg       0.96      0.98      0.97       577\n",
      "\n"
     ]
    },
    {
     "name": "stderr",
     "output_type": "stream",
     "text": [
      "c:\\users\\olive\\documents\\6. semester\\applied artificial intelligence\\ai_exam\\.venv\\lib\\site-packages\\sklearn\\metrics\\_classification.py:1308: UndefinedMetricWarning: Precision and F-score are ill-defined and being set to 0.0 in samples with no predicted labels. Use `zero_division` parameter to control this behavior.\n",
      "  _warn_prf(average, modifier, msg_start, len(result))\n"
     ]
    }
   ],
   "source": [
    "from sklearn import svm\n",
    "from sklearn.neural_network import MLPClassifier\n",
    "from sklearn.metrics import classification_report,confusion_matrix\n",
    "\n",
    "# Call process_files and assign variables\n",
    "X_grey_train, X_grey_validation, X_grey_test, y_train, y_validation, y_test = process_files(data_path)\n",
    "# Fit/train train-datasets and store prediction vectors in variables\n",
    "\n",
    "# Grey\n",
    "mlpc_grey =  MLPClassifier(hidden_layer_sizes=(576), activation='relu', solver='adam')\n",
    "mlpc_grey.fit(X_grey_train, y_train)\n",
    "grey_val_result = mlpc_grey.predict(X_grey_validation)\n",
    "\n",
    "print(\"Grey model\")\n",
    "print(classification_report(y_validation, grey_val_result))"
   ]
  },
  {
   "cell_type": "code",
   "execution_count": null,
   "id": "512127a1",
   "metadata": {},
   "outputs": [],
   "source": []
  }
 ],
 "metadata": {
  "kernelspec": {
   "display_name": "Python 3 (ipykernel)",
   "language": "python",
   "name": "python3"
  },
  "language_info": {
   "codemirror_mode": {
    "name": "ipython",
    "version": 3
   },
   "file_extension": ".py",
   "mimetype": "text/x-python",
   "name": "python",
   "nbconvert_exporter": "python",
   "pygments_lexer": "ipython3",
   "version": "3.8.2"
  }
 },
 "nbformat": 4,
 "nbformat_minor": 5
}
